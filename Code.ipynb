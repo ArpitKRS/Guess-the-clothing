{
  "nbformat": 4,
  "nbformat_minor": 0,
  "metadata": {
    "colab": {
      "name": "Code.ipynb",
      "provenance": [],
      "authorship_tag": "ABX9TyNnzlgOz4koYzO+QF6pgp0E",
      "include_colab_link": true
    },
    "kernelspec": {
      "name": "python3",
      "display_name": "Python 3"
    },
    "language_info": {
      "name": "python"
    }
  },
  "cells": [
    {
      "cell_type": "markdown",
      "metadata": {
        "id": "view-in-github",
        "colab_type": "text"
      },
      "source": [
        "<a href=\"https://colab.research.google.com/github/ArpitKRS/Guess-the-clothing/blob/main/Code.ipynb\" target=\"_parent\"><img src=\"https://colab.research.google.com/assets/colab-badge.svg\" alt=\"Open In Colab\"/></a>"
      ]
    },
    {
      "cell_type": "code",
      "execution_count": null,
      "metadata": {
        "id": "vaFUvcFCA7U4"
      },
      "outputs": [],
      "source": [
        "%tensorflow_version 2.x\n",
        "\n",
        "import tensorflow as tf\n",
        "from tensorflow import keras\n",
        "import numpy as np\n",
        "import matplotlib.pyplot as plt"
      ]
    },
    {
      "cell_type": "code",
      "source": [
        "fashion_mnist = keras.datasets.fashion_mnist # for loading dataset\n",
        "(train_images, train_labels) , (test_images, test_labels) = fashion_mnist.load_data() # split the data into training and testing data"
      ],
      "metadata": {
        "id": "f-7gOt8XBzIK"
      },
      "execution_count": null,
      "outputs": []
    },
    {
      "cell_type": "code",
      "source": [
        "train_images.shape"
      ],
      "metadata": {
        "colab": {
          "base_uri": "https://localhost:8080/"
        },
        "id": "z52wOJ1lCjcK",
        "outputId": "7218b6ac-c3e0-4b31-e42c-7d244b872cf6"
      },
      "execution_count": null,
      "outputs": [
        {
          "output_type": "execute_result",
          "data": {
            "text/plain": [
              "(60000, 28, 28)"
            ]
          },
          "metadata": {},
          "execution_count": 26
        }
      ]
    },
    {
      "cell_type": "code",
      "source": [
        "train_images[0,23,23] # gives the look of one pixel"
      ],
      "metadata": {
        "colab": {
          "base_uri": "https://localhost:8080/"
        },
        "id": "fFXuFA21C1Tw",
        "outputId": "75ca5207-6674-4a7a-dbe1-70dd79087b70"
      },
      "execution_count": null,
      "outputs": [
        {
          "output_type": "execute_result",
          "data": {
            "text/plain": [
              "194"
            ]
          },
          "metadata": {},
          "execution_count": 27
        }
      ]
    },
    {
      "cell_type": "markdown",
      "source": [
        "Our pixel values are between 0 to 255, 0 being black and 255 being white"
      ],
      "metadata": {
        "id": "9nQnMgbIDM5m"
      }
    },
    {
      "cell_type": "code",
      "source": [
        "train_labels[:10] # looking at first 10 training labels"
      ],
      "metadata": {
        "colab": {
          "base_uri": "https://localhost:8080/"
        },
        "id": "6pwcWUIpDb6Z",
        "outputId": "5ef8e9c4-96ee-4073-858a-b2bc88c62f12"
      },
      "execution_count": null,
      "outputs": [
        {
          "output_type": "execute_result",
          "data": {
            "text/plain": [
              "array([9, 0, 0, 3, 0, 2, 7, 2, 5, 5], dtype=uint8)"
            ]
          },
          "metadata": {},
          "execution_count": 28
        }
      ]
    },
    {
      "cell_type": "markdown",
      "source": [
        "Taking a look at some of these  images"
      ],
      "metadata": {
        "id": "2tS089BJD6bI"
      }
    },
    {
      "cell_type": "code",
      "source": [
        "plt.figure()\n",
        "plt.imshow(train_images[7])\n",
        "plt.colorbar()\n",
        "plt.grid(False)\n",
        "plt.show()"
      ],
      "metadata": {
        "colab": {
          "base_uri": "https://localhost:8080/",
          "height": 265
        },
        "id": "Qx7lqOzND9zf",
        "outputId": "bc1678b3-398e-4a03-8193-a4644ecf5a49"
      },
      "execution_count": null,
      "outputs": [
        {
          "output_type": "display_data",
          "data": {
            "text/plain": [
              "<Figure size 432x288 with 2 Axes>"
            ],
            "image/png": "[encoded data removed]"
          },
          "metadata": {
            "needs_background": "light"
          }
        }
      ]
    },
    {
      "cell_type": "markdown",
      "source": [
        "Squishing data between 0 and 1 to make it more simpler"
      ],
      "metadata": {
        "id": "05XnAoEWEkFG"
      }
    },
    {
      "cell_type": "code",
      "source": [
        "train_images = train_images / 255.0\n",
        "test_images = test_images / 255.0"
      ],
      "metadata": {
        "id": "IqWSG98uEoLr"
      },
      "execution_count": null,
      "outputs": []
    },
    {
      "cell_type": "markdown",
      "source": [
        "Building a model"
      ],
      "metadata": {
        "id": "VKteFUGZE5NL"
      }
    },
    {
      "cell_type": "code",
      "source": [
        "model = keras.Sequential([\n",
        "    keras.layers.Flatten(input_shape=(28,28)), # input layer (1)\n",
        "    keras.layers.Dense(128, activation='relu'), # hidden layer (2) {128 is choosen as random as it is the half of total pixel value}\n",
        "    keras.layers.Dense(10, activation='softmax') # output layer (3) {10 is choosen as it is the number of classes}\n",
        "])\n",
        "\n",
        "model.compile(optimizer='adam',\n",
        "              loss='sparse_categorical_crossentropy',\n",
        "              metrics=['accuracy'])\n",
        "\n"
      ],
      "metadata": {
        "id": "Nb3ecUA5E9JI"
      },
      "execution_count": null,
      "outputs": []
    },
    {
      "cell_type": "code",
      "source": [
        "model.fit(train_images, train_labels, epochs=4) "
      ],
      "metadata": {
        "colab": {
          "base_uri": "https://localhost:8080/"
        },
        "id": "rG_0nIVbHfCO",
        "outputId": "4fa570bd-553a-4fa9-f9d7-ea574a59723a"
      },
      "execution_count": null,
      "outputs": [
        {
          "output_type": "stream",
          "name": "stdout",
          "text": [
            "Epoch 1/4\n",
            "1875/1875 [==============================] - 5s 3ms/step - loss: 0.4961 - accuracy: 0.8258\n",
            "Epoch 2/4\n",
            "1875/1875 [==============================] - 5s 3ms/step - loss: 0.3761 - accuracy: 0.8633\n",
            "Epoch 3/4\n",
            "1875/1875 [==============================] - 5s 2ms/step - loss: 0.3362 - accuracy: 0.8777\n",
            "Epoch 4/4\n",
            "1875/1875 [==============================] - 4s 2ms/step - loss: 0.3125 - accuracy: 0.8848\n"
          ]
        },
        {
          "output_type": "execute_result",
          "data": {
            "text/plain": [
              "<keras.callbacks.History at 0x7f71aa6e1d90>"
            ]
          },
          "metadata": {},
          "execution_count": 32
        }
      ]
    },
    {
      "cell_type": "code",
      "source": [
        "test_loss, test_acc = model.evaluate(test_images,  test_labels, verbose=1) \n",
        "\n",
        "print('Test accuracy:', test_acc)"
      ],
      "metadata": {
        "colab": {
          "base_uri": "https://localhost:8080/"
        },
        "id": "Ixw4zxFEH19m",
        "outputId": "7849bf0a-53e3-410c-c9ee-ee61e4222c44"
      },
      "execution_count": null,
      "outputs": [
        {
          "output_type": "stream",
          "name": "stdout",
          "text": [
            "313/313 [==============================] - 1s 1ms/step - loss: 0.3631 - accuracy: 0.8656\n",
            "Test accuracy: 0.8655999898910522\n"
          ]
        }
      ]
    },
    {
      "cell_type": "code",
      "source": [
        "predictions = model.predict(test_images)\n",
        "print(predictions)"
      ],
      "metadata": {
        "colab": {
          "base_uri": "https://localhost:8080/"
        },
        "id": "YG6SD1BlImRz",
        "outputId": "84f8bb7f-8a1a-4c12-c437-64f923aa7402"
      },
      "execution_count": null,
      "outputs": [
        {
          "output_type": "stream",
          "name": "stdout",
          "text": [
            "[[3.3022854e-07 8.2526356e-08 2.6344441e-07 ... 3.4664456e-02\n",
            "  2.8953498e-05 9.0184259e-01]\n",
            " [6.3485793e-05 2.1057014e-09 9.8051363e-01 ... 5.0284910e-10\n",
            "  9.2332037e-08 3.4324538e-12]\n",
            " [3.4234420e-06 9.9999392e-01 5.9820565e-08 ... 2.1403337e-10\n",
            "  1.6791491e-08 1.0336385e-10]\n",
            " ...\n",
            " [1.8354374e-03 9.5856416e-09 6.8996131e-04 ... 1.9775198e-06\n",
            "  9.9643940e-01 3.0176945e-09]\n",
            " [1.5180731e-07 9.9997628e-01 6.5559393e-09 ... 5.4900662e-09\n",
            "  7.7225017e-09 4.6923567e-09]\n",
            " [8.4459884e-05 5.7984573e-07 7.2841889e-05 ... 3.3376075e-02\n",
            "  4.2211763e-03 2.6664307e-04]]\n"
          ]
        }
      ]
    }
  ]
}